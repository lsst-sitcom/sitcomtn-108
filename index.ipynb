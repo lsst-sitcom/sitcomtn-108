{
 "cells": [
  {
   "cell_type": "markdown",
   "id": "4a995638-89f9-4c29-b741-bbee7cc58f29",
   "metadata": {
    "execution": {
     "iopub.execute_input": "2024-02-08T22:25:56.058005Z",
     "iopub.status.busy": "2024-02-08T22:25:56.057610Z",
     "iopub.status.idle": "2024-02-08T22:25:56.061224Z",
     "shell.execute_reply": "2024-02-08T22:25:56.060787Z",
     "shell.execute_reply.started": "2024-02-08T22:25:56.057990Z"
    }
   },
   "source": [
    "# Using H1 for this title \n",
    "\n",
    "This document outlines the steps needed to  test header levels... \n",
    "\n",
    "Last verified to run: 02/28/2024\n",
    "\n",
    "Versions:\n",
    "\n",
    "* **lsst_distrib**  w_2024_02  (ext, cvmfs)\n",
    "  \n",
    "* **ts_wep** v8.1.1\n",
    "\n",
    "* **ts_imsim** v1.0.0\n",
    "\n",
    "* **galsim**  2.5.1  \n",
    "\n",
    "* **imsim** v2.0 (commit e6124cfc from Jan 18th, 2024) \n",
    "\n",
    "* **skycatalogs** 1.7.0-rc2 (commit d0d0d58ae1e) "
   ]
  },
  {
   "cell_type": "markdown",
   "id": "b3cbda71-90cd-4fef-8239-13c096630d8b",
   "metadata": {},
   "source": [
    "## H2 : Section 1 "
   ]
  },
  {
   "cell_type": "markdown",
   "id": "e87cc2b1-2299-45eb-b026-0dae943d8e66",
   "metadata": {
    "jp-MarkdownHeadingCollapsed": true
   },
   "source": [
    "### H3: Section 1.1"
   ]
  },
  {
   "cell_type": "markdown",
   "id": "abed262c-ee1e-4d61-8bea-58f59b6ea356",
   "metadata": {},
   "source": [
    "### H3: Section 1.2"
   ]
  },
  {
   "cell_type": "markdown",
   "id": "38c3b588-537e-444f-b796-817621615ac9",
   "metadata": {},
   "source": [
    "## H2: Section 2"
   ]
  },
  {
   "cell_type": "markdown",
   "id": "5edd50bf-9cf0-4ada-874d-29b21d208db5",
   "metadata": {},
   "source": [
    "### H3: Section 2.1 "
   ]
  },
  {
   "cell_type": "markdown",
   "id": "b49300b1-0f26-49ee-9554-dcdb71f765f7",
   "metadata": {
    "execution": {
     "iopub.execute_input": "2024-02-28T22:17:27.931194Z",
     "iopub.status.busy": "2024-02-28T22:17:27.930894Z",
     "iopub.status.idle": "2024-02-28T22:17:27.933647Z",
     "shell.execute_reply": "2024-02-28T22:17:27.933232Z",
     "shell.execute_reply.started": "2024-02-28T22:17:27.931178Z"
    }
   },
   "source": [
    "### H3: Section 2.2"
   ]
  },
  {
   "cell_type": "markdown",
   "id": "b742847e-759f-4fc9-82cd-0480c58d1ae7",
   "metadata": {},
   "source": [
    "... Old tests below ... "
   ]
  },
  {
   "cell_type": "markdown",
   "id": "79cfd73a-fcce-40fc-951a-1931e3ea34d7",
   "metadata": {},
   "source": [
    "# Chapter 2 "
   ]
  },
  {
   "cell_type": "markdown",
   "id": "5a49825a-2b40-4996-b75d-57a4e9436749",
   "metadata": {},
   "source": [
    "## Section 2.1"
   ]
  },
  {
   "cell_type": "markdown",
   "id": "67deea7b-7dcd-4110-ad38-4a0fd7c4eb31",
   "metadata": {},
   "source": [
    "## Section 2.2 "
   ]
  },
  {
   "cell_type": "markdown",
   "id": "d7ab1a02-2610-41b3-b1a8-466b2ee1c0ad",
   "metadata": {},
   "source": [
    "Second:  H2 and H3 only , single cell"
   ]
  },
  {
   "cell_type": "markdown",
   "id": "c523af09-d0b1-4fe4-b879-bea2442d12a1",
   "metadata": {},
   "source": [
    "## Chap A\n",
    "\n",
    "### Sec A1\n",
    "\n",
    "### Sec A2 \n",
    "\n",
    "\n",
    "## Chap B\n",
    "\n",
    "### Sec B1 "
   ]
  },
  {
   "cell_type": "code",
   "execution_count": null,
   "id": "6be0503d-3e19-4f56-af50-075707826211",
   "metadata": {},
   "outputs": [],
   "source": []
  }
 ],
 "metadata": {
  "kernelspec": {
   "display_name": "LSST",
   "language": "python",
   "name": "lsst"
  },
  "language_info": {
   "codemirror_mode": {
    "name": "ipython",
    "version": 3
   },
   "file_extension": ".py",
   "mimetype": "text/x-python",
   "name": "python",
   "nbconvert_exporter": "python",
   "pygments_lexer": "ipython3",
   "version": "3.11.7"
  }
 },
 "nbformat": 4,
 "nbformat_minor": 5
}
